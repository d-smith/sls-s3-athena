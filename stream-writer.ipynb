{
 "cells": [
  {
   "cell_type": "code",
   "execution_count": null,
   "id": "c0a812a5",
   "metadata": {},
   "outputs": [],
   "source": [
    "import boto3\n",
    "\n",
    "kinesis = boto3.client('kinesis')"
   ]
  },
  {
   "cell_type": "code",
   "execution_count": null,
   "id": "b47ddf67",
   "metadata": {},
   "outputs": [],
   "source": [
    "import datetime\n",
    "import json\n",
    "import random\n",
    "import boto3\n",
    "import uuid\n",
    "import time\n",
    "\n",
    "def get_data():\n",
    "    return {\n",
    "        'things': [{'a':1},{'b':2}],\n",
    "        'stuff':{'key':{'foo': True, 'bar': False}},\n",
    "        'EVENT_TIME': datetime.datetime.now().isoformat(),\n",
    "        'TICKER': random.choice(['AAPL', 'AMZN', 'MSFT', 'INTC', 'TBV']),\n",
    "        'PRICE': round(random.random() * 100, 2)}\n",
    "\n",
    "def get_cloud_event():\n",
    "    \n",
    "    data = get_data()\n",
    "    \n",
    "    return {\n",
    "        \"specversion\" : \"1.0\",\n",
    "        \"type\" : \"tick\",\n",
    "        \"source\" : \"sample-stream\",\n",
    "        \"subject\" : data['TICKER'],\n",
    "        \"id\" : str(uuid.uuid4()),\n",
    "        \"time\" : datetime.datetime.now().isoformat(),\n",
    "        \"datacontenttype\" : \"application/json\",\n",
    "        \"data\" : data\n",
    "    }\n",
    "\n",
    "\n",
    "def generate(stream_name, kinesis_client):\n",
    "    while True:\n",
    "        data = get_cloud_event()\n",
    "        print(data)\n",
    "        kinesis_client.put_record(\n",
    "            StreamName=stream_name,\n",
    "            Data=json.dumps(data),\n",
    "            PartitionKey=\"partitionkey\")\n",
    "        time.sleep(1)"
   ]
  },
  {
   "cell_type": "code",
   "execution_count": null,
   "id": "e21922ce",
   "metadata": {},
   "outputs": [],
   "source": [
    "generate('kfs3-dev-app-stream', kinesis)"
   ]
  },
  {
   "cell_type": "code",
   "execution_count": null,
   "id": "0e2d1bc8",
   "metadata": {},
   "outputs": [],
   "source": []
  }
 ],
 "metadata": {
  "kernelspec": {
   "display_name": "Python 3",
   "language": "python",
   "name": "python3"
  },
  "language_info": {
   "codemirror_mode": {
    "name": "ipython",
    "version": 3
   },
   "file_extension": ".py",
   "mimetype": "text/x-python",
   "name": "python",
   "nbconvert_exporter": "python",
   "pygments_lexer": "ipython3",
   "version": "3.9.1"
  }
 },
 "nbformat": 4,
 "nbformat_minor": 5
}
