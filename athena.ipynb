{
 "cells": [
  {
   "cell_type": "code",
   "execution_count": null,
   "id": "580ad05e",
   "metadata": {},
   "outputs": [],
   "source": [
    "import boto3\n",
    "\n",
    "athena = boto3.client('athena')\n",
    "glue = boto3.client('glue')"
   ]
  },
  {
   "cell_type": "code",
   "execution_count": null,
   "id": "d2b985ef",
   "metadata": {},
   "outputs": [],
   "source": [
    "athena.list_data_catalogs()"
   ]
  },
  {
   "cell_type": "code",
   "execution_count": null,
   "id": "7c50d230",
   "metadata": {},
   "outputs": [],
   "source": [
    "athena.list_databases(CatalogName='AWSDataCatalog')"
   ]
  },
  {
   "cell_type": "code",
   "execution_count": null,
   "id": "68356741",
   "metadata": {},
   "outputs": [],
   "source": [
    "glue.create_database(\n",
    "    DatabaseInput={\n",
    "        'Name':'CloudyVents'\n",
    "    }\n",
    ")"
   ]
  },
  {
   "cell_type": "code",
   "execution_count": null,
   "id": "9fa59bfb",
   "metadata": {},
   "outputs": [],
   "source": [
    "athena.list_databases(CatalogName='AWSDataCatalog')"
   ]
  },
  {
   "cell_type": "code",
   "execution_count": null,
   "id": "4f00c601",
   "metadata": {},
   "outputs": [],
   "source": [
    "table_ddl = r'''\n",
    "CREATE EXTERNAL TABLE `cloudyvents.indexed`(\n",
    "  `eventid` string, \n",
    "  `eventtime` string, \n",
    "  `eventtype` string, \n",
    "  `eventsubject` string, \n",
    "  `eventpayload` string)\n",
    "PARTITIONED BY ( \n",
    "  `year` string, \n",
    "  `month` string, \n",
    "  `day` string)\n",
    "ROW FORMAT SERDE \n",
    "  'org.apache.hadoop.hive.ql.io.parquet.serde.ParquetHiveSerDe' \n",
    "STORED AS INPUTFORMAT \n",
    "  'org.apache.hadoop.hive.ql.io.parquet.MapredParquetInputFormat' \n",
    "OUTPUTFORMAT \n",
    "  'org.apache.hadoop.hive.ql.io.parquet.MapredParquetOutputFormat'\n",
    "LOCATION\n",
    "  's3://kfs3-destination-dev/indexed/'\n",
    "'''"
   ]
  },
  {
   "cell_type": "code",
   "execution_count": null,
   "id": "20d20481",
   "metadata": {},
   "outputs": [],
   "source": [
    "# From https://gist.github.com/stephenconnolly1/12f9e945f266c4f64dce8aa200cb34fd\n",
    "import time\n",
    "import json\n",
    "import pprint\n",
    "import sys\n",
    "\n",
    "def run_athena_query (query, queryparams):\n",
    "    print(\"Executing query:\\n{0}\".format(query))\n",
    "    response = athena.start_query_execution(\n",
    "        QueryString=query,\n",
    "        ResultConfiguration={\n",
    "            'OutputLocation': query_output\n",
    "        }\n",
    "    )\n",
    "    execution_id = response['QueryExecutionId']\n",
    "    queryparams['execution_id'] = execution_id\n",
    "    status = ''\n",
    "    while True:\n",
    "        stats = athena.get_query_execution(QueryExecutionId=execution_id)\n",
    "        status = stats['QueryExecution']['Status']['State']\n",
    "        if status in ['SUCCEEDED', 'FAILED', 'CANCELLED']:\n",
    "            return status\n",
    "        time.sleep(0.2)  # 200ms"
   ]
  },
  {
   "cell_type": "code",
   "execution_count": null,
   "id": "645011ea",
   "metadata": {},
   "outputs": [],
   "source": [
    "def print_results(execution_id):\n",
    "    results = athena.get_query_results(QueryExecutionId=execution_id)\n",
    "    print(json.dumps(results, sort_keys=True, indent=4))"
   ]
  },
  {
   "cell_type": "code",
   "execution_count": null,
   "id": "84fc224a",
   "metadata": {},
   "outputs": [],
   "source": [
    "queryparams = {}\n",
    "query_output = 's3://athenaout-97068/'"
   ]
  },
  {
   "cell_type": "code",
   "execution_count": null,
   "id": "b7ccf313",
   "metadata": {},
   "outputs": [],
   "source": [
    "queryparams['execution_id']=''\n",
    "run_athena_query(table_ddl, queryparams)"
   ]
  },
  {
   "cell_type": "code",
   "execution_count": null,
   "id": "fcdd7157",
   "metadata": {},
   "outputs": [],
   "source": [
    "print_results(queryparams['execution_id'])"
   ]
  },
  {
   "cell_type": "code",
   "execution_count": null,
   "id": "0ba7a9fb",
   "metadata": {},
   "outputs": [],
   "source": [
    "## This command is needed to 'pick' up the data in the bucket... also had to run again when a new partition showed \n",
    "## up... would a scheduled crawler be in order?\n",
    "query = 'MSCK REPAIR TABLE cloudyvents.indexed'"
   ]
  },
  {
   "cell_type": "code",
   "execution_count": null,
   "id": "f3df760a",
   "metadata": {},
   "outputs": [],
   "source": [
    "queryparams['execution_id']=''\n",
    "run_athena_query(query, queryparams)"
   ]
  },
  {
   "cell_type": "code",
   "execution_count": null,
   "id": "74ced74d",
   "metadata": {},
   "outputs": [],
   "source": [
    "query = r'''\n",
    "    EXPLAIN\n",
    "    SELECT\n",
    "        eventsubject,\n",
    "        COUNT (*) as cnt\n",
    "    FROM cloudyvents.indexed\n",
    "    GROUP BY\n",
    "        eventsubject\n",
    "    '''"
   ]
  },
  {
   "cell_type": "code",
   "execution_count": null,
   "id": "fd7560b3",
   "metadata": {},
   "outputs": [],
   "source": [
    "queryparams['execution_id']=''\n",
    "run_athena_query(query, queryparams)"
   ]
  },
  {
   "cell_type": "code",
   "execution_count": null,
   "id": "8a87ef66",
   "metadata": {},
   "outputs": [],
   "source": [
    "print_results(queryparams['execution_id'])"
   ]
  },
  {
   "cell_type": "code",
   "execution_count": null,
   "id": "dcb5e3a5",
   "metadata": {},
   "outputs": [],
   "source": [
    "query = r'''\n",
    "    EXPLAIN\n",
    "    SELECT\n",
    "        eventsubject,\n",
    "        COUNT (*) as cnt\n",
    "    FROM cloudyvents.indexed\n",
    "    WHERE year='2021' and month='08' and day='08'\n",
    "    GROUP BY\n",
    "        eventsubject\n",
    "    '''"
   ]
  },
  {
   "cell_type": "code",
   "execution_count": null,
   "id": "19dcf74a",
   "metadata": {},
   "outputs": [],
   "source": [
    "queryparams['execution_id']=''\n",
    "run_athena_query(query, queryparams)"
   ]
  },
  {
   "cell_type": "code",
   "execution_count": null,
   "id": "9a097164",
   "metadata": {},
   "outputs": [],
   "source": [
    "print_results(queryparams['execution_id'])"
   ]
  },
  {
   "cell_type": "code",
   "execution_count": null,
   "id": "fd96c9e5",
   "metadata": {},
   "outputs": [],
   "source": [
    "query = r'''\n",
    "    SELECT\n",
    "        eventsubject,\n",
    "        COUNT (*) as cnt\n",
    "    FROM cloudyvents.indexed\n",
    "    WHERE year='2021' and month='08' and day='09'\n",
    "    GROUP BY\n",
    "        eventsubject\n",
    "    '''"
   ]
  },
  {
   "cell_type": "code",
   "execution_count": null,
   "id": "d0852278",
   "metadata": {},
   "outputs": [],
   "source": [
    "queryparams['execution_id']=''\n",
    "run_athena_query(query, queryparams)"
   ]
  },
  {
   "cell_type": "code",
   "execution_count": null,
   "id": "03f0f3dd",
   "metadata": {},
   "outputs": [],
   "source": [
    "print_results(queryparams['execution_id'])"
   ]
  },
  {
   "cell_type": "code",
   "execution_count": null,
   "id": "faf3c243",
   "metadata": {},
   "outputs": [],
   "source": [
    "glue.delete_table(\n",
    "    DatabaseName='cloudyvents',\n",
    "    Name='indexed'\n",
    ")"
   ]
  },
  {
   "cell_type": "code",
   "execution_count": null,
   "id": "2fe949c0",
   "metadata": {},
   "outputs": [],
   "source": [
    "glue.delete_database(\n",
    "    Name='cloudyvents',\n",
    ")"
   ]
  },
  {
   "cell_type": "code",
   "execution_count": null,
   "id": "164f9784",
   "metadata": {},
   "outputs": [],
   "source": []
  }
 ],
 "metadata": {
  "kernelspec": {
   "display_name": "Python 3",
   "language": "python",
   "name": "python3"
  },
  "language_info": {
   "codemirror_mode": {
    "name": "ipython",
    "version": 3
   },
   "file_extension": ".py",
   "mimetype": "text/x-python",
   "name": "python",
   "nbconvert_exporter": "python",
   "pygments_lexer": "ipython3",
   "version": "3.9.1"
  }
 },
 "nbformat": 4,
 "nbformat_minor": 5
}
